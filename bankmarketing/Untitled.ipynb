{
 "cells": [
  {
   "cell_type": "code",
   "execution_count": 15,
   "metadata": {},
   "outputs": [],
   "source": [
    "from bankviz.utils import *\n",
    "import pandas as pd"
   ]
  },
  {
   "cell_type": "code",
   "execution_count": 9,
   "metadata": {},
   "outputs": [],
   "source": [
    "from django.conf import settings"
   ]
  },
  {
   "cell_type": "code",
   "execution_count": 17,
   "metadata": {},
   "outputs": [],
   "source": [
    "data = {\"age\":58.0,\"campaign\":6.0,\"pdays\":3.0,\"previous\":1.0,\"emp_var_rate\":-2.9,\"cons_price_idx\":92.201,\"cons_conf_idx\":-31.4,\"euribor3m\":0.838,\"nr_employed\":5076.2,\"job_blue-collar\":0.0,\"job_entrepreneur\":0.0,\"job_housemaid\":0.0,\"job_management\":0.0,\"job_retired\":1.0,\"job_self-employed\":0.0,\"job_services\":0.0,\"job_student\":0.0,\"job_technician\":0.0,\"job_unemployed\":0.0,\"job_unknown\":0.0,\"marital_married\":1.0,\"marital_single\":0.0,\"marital_unknown\":0.0,\"education_basic.6y\":0.0,\"education_basic.9y\":0.0,\"education_high.school\":1.0,\"education_illiterate\":0.0,\"education_professional.course\":0.0,\"education_university.degree\":0.0,\"education_unknown\":0.0,\"default_unknown\":0.0,\"default_yes\":0.0,\"housing_unknown\":0.0,\"housing_yes\":1.0,\"loan_unknown\":0.0,\"loan_yes\":0.0,\"contact_telephone\":0.0,\"month_aug\":1.0,\"month_dec\":0.0,\"month_jul\":0.0,\"month_jun\":0.0,\"month_mar\":0.0,\"month_may\":0.0,\"month_nov\":0.0,\"month_oct\":0.0,\"month_sep\":0.0,\"day_of_week_mon\":0.0,\"day_of_week_thu\":0.0,\"day_of_week_tue\":1.0,\"day_of_week_wed\":0.0,\"poutcome_nonexistent\":0.0,\"poutcome_success\":1.0}\n",
    "data = { k:[v] for k,v in data.items() }"
   ]
  },
  {
   "cell_type": "code",
   "execution_count": 23,
   "metadata": {},
   "outputs": [
    {
     "data": {
      "text/plain": [
       "{'job': ['admin.',\n",
       "  'blue-collar',\n",
       "  'technician',\n",
       "  'services',\n",
       "  'management',\n",
       "  'retired',\n",
       "  'entrepreneur',\n",
       "  'self-employed',\n",
       "  'housemaid',\n",
       "  'unemployed',\n",
       "  'student',\n",
       "  'unknown'],\n",
       " 'marital': ['married', 'single', 'divorced', 'unknown'],\n",
       " 'education': ['university.degree',\n",
       "  'high.school',\n",
       "  'basic.9y',\n",
       "  'professional.course',\n",
       "  'basic.4y',\n",
       "  'basic.6y',\n",
       "  'unknown',\n",
       "  'illiterate'],\n",
       " 'default': ['no', 'unknown', 'yes'],\n",
       " 'housing': ['yes', 'no', 'unknown'],\n",
       " 'loan': ['no', 'yes', 'unknown'],\n",
       " 'contact': ['cellular', 'telephone'],\n",
       " 'month': ['may',\n",
       "  'jul',\n",
       "  'aug',\n",
       "  'jun',\n",
       "  'nov',\n",
       "  'apr',\n",
       "  'oct',\n",
       "  'sep',\n",
       "  'mar',\n",
       "  'dec'],\n",
       " 'day_of_week': ['thu', 'mon', 'wed', 'tue', 'fri'],\n",
       " 'poutcome': ['nonexistent', 'failure', 'success']}"
      ]
     },
     "execution_count": 23,
     "metadata": {},
     "output_type": "execute_result"
    }
   ],
   "source": [
    "settings.CATEGORICAL_VALUES"
   ]
  },
  {
   "cell_type": "code",
   "execution_count": 18,
   "metadata": {},
   "outputs": [],
   "source": [
    "df =pd.DataFrame.from_dict(data)"
   ]
  },
  {
   "cell_type": "code",
   "execution_count": 19,
   "metadata": {},
   "outputs": [
    {
     "data": {
      "text/html": [
       "<div>\n",
       "<style scoped>\n",
       "    .dataframe tbody tr th:only-of-type {\n",
       "        vertical-align: middle;\n",
       "    }\n",
       "\n",
       "    .dataframe tbody tr th {\n",
       "        vertical-align: top;\n",
       "    }\n",
       "\n",
       "    .dataframe thead th {\n",
       "        text-align: right;\n",
       "    }\n",
       "</style>\n",
       "<table border=\"1\" class=\"dataframe\">\n",
       "  <thead>\n",
       "    <tr style=\"text-align: right;\">\n",
       "      <th></th>\n",
       "      <th>age</th>\n",
       "      <th>campaign</th>\n",
       "      <th>pdays</th>\n",
       "      <th>previous</th>\n",
       "      <th>emp_var_rate</th>\n",
       "      <th>cons_price_idx</th>\n",
       "      <th>cons_conf_idx</th>\n",
       "      <th>euribor3m</th>\n",
       "      <th>nr_employed</th>\n",
       "      <th>job_blue-collar</th>\n",
       "      <th>...</th>\n",
       "      <th>month_may</th>\n",
       "      <th>month_nov</th>\n",
       "      <th>month_oct</th>\n",
       "      <th>month_sep</th>\n",
       "      <th>day_of_week_mon</th>\n",
       "      <th>day_of_week_thu</th>\n",
       "      <th>day_of_week_tue</th>\n",
       "      <th>day_of_week_wed</th>\n",
       "      <th>poutcome_nonexistent</th>\n",
       "      <th>poutcome_success</th>\n",
       "    </tr>\n",
       "  </thead>\n",
       "  <tbody>\n",
       "    <tr>\n",
       "      <th>0</th>\n",
       "      <td>58.0</td>\n",
       "      <td>6.0</td>\n",
       "      <td>3.0</td>\n",
       "      <td>1.0</td>\n",
       "      <td>-2.9</td>\n",
       "      <td>92.201</td>\n",
       "      <td>-31.4</td>\n",
       "      <td>0.838</td>\n",
       "      <td>5076.2</td>\n",
       "      <td>0.0</td>\n",
       "      <td>...</td>\n",
       "      <td>0.0</td>\n",
       "      <td>0.0</td>\n",
       "      <td>0.0</td>\n",
       "      <td>0.0</td>\n",
       "      <td>0.0</td>\n",
       "      <td>0.0</td>\n",
       "      <td>1.0</td>\n",
       "      <td>0.0</td>\n",
       "      <td>0.0</td>\n",
       "      <td>1.0</td>\n",
       "    </tr>\n",
       "  </tbody>\n",
       "</table>\n",
       "<p>1 rows × 52 columns</p>\n",
       "</div>"
      ],
      "text/plain": [
       "    age  campaign  pdays  previous  emp_var_rate  cons_price_idx  \\\n",
       "0  58.0       6.0    3.0       1.0          -2.9          92.201   \n",
       "\n",
       "   cons_conf_idx  euribor3m  nr_employed  job_blue-collar  ...  month_may  \\\n",
       "0          -31.4      0.838       5076.2              0.0  ...        0.0   \n",
       "\n",
       "   month_nov  month_oct  month_sep  day_of_week_mon  day_of_week_thu  \\\n",
       "0        0.0        0.0        0.0              0.0              0.0   \n",
       "\n",
       "   day_of_week_tue  day_of_week_wed  poutcome_nonexistent  poutcome_success  \n",
       "0              1.0              0.0                   0.0               1.0  \n",
       "\n",
       "[1 rows x 52 columns]"
      ]
     },
     "execution_count": 19,
     "metadata": {},
     "output_type": "execute_result"
    }
   ],
   "source": [
    "df"
   ]
  },
  {
   "cell_type": "code",
   "execution_count": 20,
   "metadata": {},
   "outputs": [],
   "source": [
    "scaler = settings.SCALER"
   ]
  },
  {
   "cell_type": "code",
   "execution_count": 21,
   "metadata": {},
   "outputs": [],
   "source": [
    "x_pred = scaler.transform(df)"
   ]
  },
  {
   "cell_type": "code",
   "execution_count": 22,
   "metadata": {},
   "outputs": [
    {
     "data": {
      "text/plain": [
       "array([[ 5.80000000e+01,  6.00000000e+00,  3.00000000e+00,\n",
       "         1.00000000e+00, -2.90000000e+00,  9.22010000e+01,\n",
       "        -3.14000000e+01,  8.38000000e-01,  5.07620000e+03,\n",
       "        -4.08278578e-17,  1.56410948e-17,  4.37030591e-17,\n",
       "         2.30016100e-19,  1.00000000e+00,  2.76019320e-18,\n",
       "        -1.17883251e-17,  8.74061182e-18, -1.28809016e-17,\n",
       "         7.45252165e-17, -3.45024151e-19,  1.00000000e+00,\n",
       "        -6.44045081e-18,  8.97062792e-18, -1.33409338e-17,\n",
       "         5.17536226e-18,  1.00000000e+00,  1.19608372e-17,\n",
       "         2.73719159e-17,  1.01207084e-17, -4.23229625e-17,\n",
       "        -1.15008050e-17,  2.30016100e-18, -3.01321092e-17,\n",
       "         1.00000000e+00, -3.01321092e-17,  8.28057961e-18,\n",
       "         1.06267438e-16,  1.00000000e+00, -5.06035421e-18,\n",
       "         2.62505875e-17,  2.34616422e-17,  3.50774553e-17,\n",
       "        -6.34844437e-17,  2.34616422e-17, -3.13971977e-17,\n",
       "        -5.15236065e-17, -1.51810626e-17, -1.61011270e-17,\n",
       "         1.00000000e+00, -6.49795484e-17, -2.36916583e-17,\n",
       "         1.00000000e+00]])"
      ]
     },
     "execution_count": 22,
     "metadata": {},
     "output_type": "execute_result"
    }
   ],
   "source": [
    "x_pred"
   ]
  },
  {
   "cell_type": "code",
   "execution_count": 13,
   "metadata": {},
   "outputs": [
    {
     "ename": "KeyError",
     "evalue": "'job'",
     "output_type": "error",
     "traceback": [
      "\u001b[0;31m---------------------------------------------------------------------------\u001b[0m",
      "\u001b[0;31mKeyError\u001b[0m                                  Traceback (most recent call last)",
      "\u001b[0;32m<ipython-input-13-597b4ef16d83>\u001b[0m in \u001b[0;36m<module>\u001b[0;34m\u001b[0m\n\u001b[0;32m----> 1\u001b[0;31m \u001b[0mp\u001b[0m\u001b[0;34m,\u001b[0m \u001b[0mdf\u001b[0m \u001b[0;34m=\u001b[0m \u001b[0mpredict\u001b[0m\u001b[0;34m(\u001b[0m\u001b[0mdata\u001b[0m\u001b[0;34m)\u001b[0m\u001b[0;34m\u001b[0m\u001b[0;34m\u001b[0m\u001b[0m\n\u001b[0m",
      "\u001b[0;32m~/bank-marketing/bank-marketing/bankmarketing/bankviz/utils.py\u001b[0m in \u001b[0;36mpredict\u001b[0;34m(data)\u001b[0m\n\u001b[1;32m     34\u001b[0m     \u001b[0mdata\u001b[0m\u001b[0;34m[\u001b[0m\u001b[0;34m'euribor3m'\u001b[0m\u001b[0;34m]\u001b[0m \u001b[0;34m=\u001b[0m \u001b[0;36m3.621290812858114\u001b[0m\u001b[0;34m\u001b[0m\u001b[0;34m\u001b[0m\u001b[0m\n\u001b[1;32m     35\u001b[0m     \u001b[0mdata\u001b[0m\u001b[0;34m[\u001b[0m\u001b[0;34m'nr_employed'\u001b[0m\u001b[0;34m]\u001b[0m \u001b[0;34m=\u001b[0m \u001b[0;36m5167.035910944936\u001b[0m\u001b[0;34m\u001b[0m\u001b[0;34m\u001b[0m\u001b[0m\n\u001b[0;32m---> 36\u001b[0;31m     \u001b[0mdata\u001b[0m \u001b[0;34m=\u001b[0m \u001b[0mconvert_dummy\u001b[0m\u001b[0;34m(\u001b[0m\u001b[0mdata\u001b[0m\u001b[0;34m)\u001b[0m\u001b[0;34m\u001b[0m\u001b[0;34m\u001b[0m\u001b[0m\n\u001b[0m\u001b[1;32m     37\u001b[0m     \u001b[0mdata\u001b[0m \u001b[0;34m=\u001b[0m \u001b[0;34m{\u001b[0m \u001b[0mk\u001b[0m\u001b[0;34m:\u001b[0m\u001b[0;34m[\u001b[0m\u001b[0mv\u001b[0m\u001b[0;34m]\u001b[0m \u001b[0;32mfor\u001b[0m \u001b[0mk\u001b[0m\u001b[0;34m,\u001b[0m\u001b[0mv\u001b[0m \u001b[0;32min\u001b[0m \u001b[0mdata\u001b[0m\u001b[0;34m.\u001b[0m\u001b[0mitems\u001b[0m\u001b[0;34m(\u001b[0m\u001b[0;34m)\u001b[0m \u001b[0;34m}\u001b[0m\u001b[0;34m\u001b[0m\u001b[0;34m\u001b[0m\u001b[0m\n\u001b[1;32m     38\u001b[0m     \u001b[0;32mfor\u001b[0m \u001b[0mk\u001b[0m\u001b[0;34m,\u001b[0m \u001b[0mv\u001b[0m \u001b[0;32min\u001b[0m \u001b[0mdata\u001b[0m\u001b[0;34m.\u001b[0m\u001b[0mitems\u001b[0m\u001b[0;34m(\u001b[0m\u001b[0;34m)\u001b[0m\u001b[0;34m:\u001b[0m\u001b[0;34m\u001b[0m\u001b[0;34m\u001b[0m\u001b[0m\n",
      "\u001b[0;32m~/bank-marketing/bank-marketing/bankmarketing/bankviz/utils.py\u001b[0m in \u001b[0;36mconvert_dummy\u001b[0;34m(data)\u001b[0m\n\u001b[1;32m      8\u001b[0m \u001b[0;34m\u001b[0m\u001b[0m\n\u001b[1;32m      9\u001b[0m     \u001b[0;32mfor\u001b[0m \u001b[0mcat\u001b[0m \u001b[0;32min\u001b[0m \u001b[0msettings\u001b[0m\u001b[0;34m.\u001b[0m\u001b[0mCATEGORICAL\u001b[0m\u001b[0;34m:\u001b[0m\u001b[0;34m\u001b[0m\u001b[0;34m\u001b[0m\u001b[0m\n\u001b[0;32m---> 10\u001b[0;31m         \u001b[0mcat_val\u001b[0m \u001b[0;34m=\u001b[0m \u001b[0mdata\u001b[0m\u001b[0;34m[\u001b[0m\u001b[0mcat\u001b[0m\u001b[0;34m]\u001b[0m \u001b[0;31m# Value from user\u001b[0m\u001b[0;34m\u001b[0m\u001b[0;34m\u001b[0m\u001b[0m\n\u001b[0m\u001b[1;32m     11\u001b[0m         \u001b[0;32mfor\u001b[0m \u001b[0moption\u001b[0m \u001b[0;32min\u001b[0m \u001b[0msettings\u001b[0m\u001b[0;34m.\u001b[0m\u001b[0mCATEGORICAL_VALUES\u001b[0m\u001b[0;34m[\u001b[0m\u001b[0mcat\u001b[0m\u001b[0;34m]\u001b[0m\u001b[0;34m:\u001b[0m\u001b[0;34m\u001b[0m\u001b[0;34m\u001b[0m\u001b[0m\n\u001b[1;32m     12\u001b[0m             \u001b[0mprint\u001b[0m\u001b[0;34m(\u001b[0m\u001b[0;34m\"COMPARE :\"\u001b[0m\u001b[0;34m,\u001b[0m\u001b[0mcat_val\u001b[0m\u001b[0;34m,\u001b[0m \u001b[0moption\u001b[0m\u001b[0;34m)\u001b[0m\u001b[0;34m\u001b[0m\u001b[0;34m\u001b[0m\u001b[0m\n",
      "\u001b[0;31mKeyError\u001b[0m: 'job'"
     ]
    }
   ],
   "source": [
    "p, df = predict(data)"
   ]
  },
  {
   "cell_type": "code",
   "execution_count": 8,
   "metadata": {},
   "outputs": [
    {
     "data": {
      "text/html": [
       "<div>\n",
       "<style scoped>\n",
       "    .dataframe tbody tr th:only-of-type {\n",
       "        vertical-align: middle;\n",
       "    }\n",
       "\n",
       "    .dataframe tbody tr th {\n",
       "        vertical-align: top;\n",
       "    }\n",
       "\n",
       "    .dataframe thead th {\n",
       "        text-align: right;\n",
       "    }\n",
       "</style>\n",
       "<table border=\"1\" class=\"dataframe\">\n",
       "  <thead>\n",
       "    <tr style=\"text-align: right;\">\n",
       "      <th></th>\n",
       "      <th>age</th>\n",
       "      <th>campaign</th>\n",
       "      <th>pdays</th>\n",
       "      <th>previous</th>\n",
       "      <th>emp_var_rate</th>\n",
       "      <th>cons_price_idx</th>\n",
       "      <th>cons_conf_idx</th>\n",
       "      <th>euribor3m</th>\n",
       "      <th>nr_employed</th>\n",
       "      <th>job_blue-collar</th>\n",
       "      <th>...</th>\n",
       "      <th>month_may</th>\n",
       "      <th>month_nov</th>\n",
       "      <th>month_oct</th>\n",
       "      <th>month_sep</th>\n",
       "      <th>day_of_week_mon</th>\n",
       "      <th>day_of_week_thu</th>\n",
       "      <th>day_of_week_tue</th>\n",
       "      <th>day_of_week_wed</th>\n",
       "      <th>poutcome_nonexistent</th>\n",
       "      <th>poutcome_success</th>\n",
       "    </tr>\n",
       "  </thead>\n",
       "  <tbody>\n",
       "    <tr>\n",
       "      <th>0</th>\n",
       "      <td>25</td>\n",
       "      <td>7</td>\n",
       "      <td>129</td>\n",
       "      <td>1</td>\n",
       "      <td>0.081886</td>\n",
       "      <td>93.575664</td>\n",
       "      <td>-40.5026</td>\n",
       "      <td>3.621291</td>\n",
       "      <td>5167.035911</td>\n",
       "      <td>0</td>\n",
       "      <td>...</td>\n",
       "      <td>1</td>\n",
       "      <td>0</td>\n",
       "      <td>0</td>\n",
       "      <td>0</td>\n",
       "      <td>0</td>\n",
       "      <td>0</td>\n",
       "      <td>0</td>\n",
       "      <td>0</td>\n",
       "      <td>0</td>\n",
       "      <td>0</td>\n",
       "    </tr>\n",
       "  </tbody>\n",
       "</table>\n",
       "<p>1 rows × 52 columns</p>\n",
       "</div>"
      ],
      "text/plain": [
       "   age  campaign  pdays  previous  emp_var_rate  cons_price_idx  \\\n",
       "0   25         7    129         1      0.081886       93.575664   \n",
       "\n",
       "   cons_conf_idx  euribor3m  nr_employed  job_blue-collar  ...  month_may  \\\n",
       "0       -40.5026   3.621291  5167.035911                0  ...          1   \n",
       "\n",
       "   month_nov  month_oct  month_sep  day_of_week_mon  day_of_week_thu  \\\n",
       "0          0          0          0                0                0   \n",
       "\n",
       "   day_of_week_tue  day_of_week_wed  poutcome_nonexistent  poutcome_success  \n",
       "0                0                0                     0                 0  \n",
       "\n",
       "[1 rows x 52 columns]"
      ]
     },
     "execution_count": 8,
     "metadata": {},
     "output_type": "execute_result"
    }
   ],
   "source": [
    "df"
   ]
  }
 ],
 "metadata": {
  "kernelspec": {
   "display_name": "Django Shell-Plus",
   "language": "python",
   "name": "django_extensions"
  },
  "language_info": {
   "codemirror_mode": {
    "name": "ipython",
    "version": 3
   },
   "file_extension": ".py",
   "mimetype": "text/x-python",
   "name": "python",
   "nbconvert_exporter": "python",
   "pygments_lexer": "ipython3",
   "version": "3.6.8"
  }
 },
 "nbformat": 4,
 "nbformat_minor": 2
}
