{
 "cells": [
  {
   "cell_type": "markdown",
   "metadata": {},
   "source": [
    "# Visualizing Bank Marketing Dataset"
   ]
  },
  {
   "cell_type": "markdown",
   "metadata": {},
   "source": [
    "This web app is a demo for a web-based dashboard visualizing Bank Marketing dataset. Built with D3.js and Django. The productionized application is deployed using Docker, Nginx on an AWS EC2 instance (t2.small).\n",
    "\n",
    "Includes an interactive predictive modelling segment with an interactive chart where users are able to key in their customer inputs to generate the probability of the customer subscribing."
   ]
  },
  {
   "cell_type": "markdown",
   "metadata": {},
   "source": [
    "You may view the demo here: http://13.250.99.99"
   ]
  },
  {
   "cell_type": "markdown",
   "metadata": {},
   "source": [
    "## Quickstart"
   ]
  },
  {
   "cell_type": "markdown",
   "metadata": {},
   "source": [
    "* As this is a production model, port 80 will be used. If you are running this app locally, please ensure that port 80 is not being used.\n",
    "* Ensure docker and docker-compose is installed\n",
    "* On the root project folder, run the command:\n",
    "```{bash}\n",
    "docker-compose up\n",
    "```"
   ]
  },
  {
   "cell_type": "markdown",
   "metadata": {},
   "source": [
    "The app should be up and running. You can access it via the machine IPV4 address (0.0.0.0) for local machine. "
   ]
  }
 ],
 "metadata": {
  "kernelspec": {
   "display_name": "Python 3",
   "language": "python",
   "name": "python3"
  },
  "language_info": {
   "codemirror_mode": {
    "name": "ipython",
    "version": 3
   },
   "file_extension": ".py",
   "mimetype": "text/x-python",
   "name": "python",
   "nbconvert_exporter": "python",
   "pygments_lexer": "ipython3",
   "version": "3.6.8"
  }
 },
 "nbformat": 4,
 "nbformat_minor": 2
}
