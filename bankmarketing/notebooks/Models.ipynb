{
 "cells": [
  {
   "cell_type": "code",
   "execution_count": 159,
   "metadata": {},
   "outputs": [],
   "source": [
    "import pandas as pd\n",
    "\n",
    "from sklearn.linear_model import LogisticRegression\n",
    "from sklearn.ensemble import RandomForestClassifier\n",
    "from sklearn.neighbors import KNeighborsClassifier\n",
    "from xgboost import XGBClassifier\n",
    "\n",
    "from sklearn.model_selection import train_test_split\n",
    "from sklearn.model_selection import KFold\n",
    "from sklearn.model_selection import cross_val_score\n",
    "from sklearn.metrics import confusion_matrix, accuracy_score\n",
    "from sklearn.preprocessing import StandardScaler\n",
    "from sklearn.externals import joblib\n",
    "\n",
    "import matplotlib.pyplot as plt"
   ]
  },
  {
   "cell_type": "code",
   "execution_count": 91,
   "metadata": {},
   "outputs": [],
   "source": [
    "import warnings\n",
    "warnings.filterwarnings('ignore')"
   ]
  },
  {
   "cell_type": "code",
   "execution_count": 92,
   "metadata": {},
   "outputs": [],
   "source": [
    "def cv_evaluator(model, x, y, folds):\n",
    "    # Returns mean accuracy of n_folds cross validation\n",
    "    mean_accuracy = cross_val_score(\n",
    "        model, \n",
    "        x_train, \n",
    "        y_train, \n",
    "        cv=folds,\n",
    "    ).mean()\n",
    "    \n",
    "    return mean_accuracy"
   ]
  },
  {
   "cell_type": "code",
   "execution_count": 93,
   "metadata": {},
   "outputs": [
    {
     "data": {
      "text/plain": [
       "array([0.90095485, 0.90077695, 0.89300745, 0.89899644, 0.90255746])"
      ]
     },
     "execution_count": 93,
     "metadata": {},
     "output_type": "execute_result"
    }
   ],
   "source": [
    "cross_val_score(model, x_train, y_train, cv=folds)"
   ]
  },
  {
   "cell_type": "code",
   "execution_count": 94,
   "metadata": {},
   "outputs": [],
   "source": [
    "df = pd.read_csv('../data/bank-additional-full.csv', delimiter = ';')\n",
    "df.drop(columns='duration', inplace=True)"
   ]
  },
  {
   "cell_type": "code",
   "execution_count": 95,
   "metadata": {},
   "outputs": [],
   "source": [
    "df.columns = [ c.replace('.','_') for c in df.columns]"
   ]
  },
  {
   "cell_type": "code",
   "execution_count": 96,
   "metadata": {},
   "outputs": [],
   "source": [
    "categorical = ['job','marital', 'education', 'default', 'housing', 'loan', 'contact', 'month', 'day_of_week', 'poutcome']"
   ]
  },
  {
   "cell_type": "code",
   "execution_count": 97,
   "metadata": {},
   "outputs": [],
   "source": [
    "y_vals = df['y'].apply(lambda x: 1 if x=='yes' else 0).values"
   ]
  },
  {
   "cell_type": "code",
   "execution_count": 98,
   "metadata": {},
   "outputs": [],
   "source": [
    "for cat in categorical:\n",
    "    df = pd.concat([df, pd.get_dummies(df[cat], prefix=cat, drop_first=True)], axis=1) \n",
    "\n",
    "df.drop(columns=categorical, inplace=True)"
   ]
  },
  {
   "cell_type": "code",
   "execution_count": 99,
   "metadata": {},
   "outputs": [],
   "source": [
    "cols = df.drop(columns=['y']).columns"
   ]
  },
  {
   "cell_type": "code",
   "execution_count": 165,
   "metadata": {},
   "outputs": [
    {
     "data": {
      "text/plain": [
       "<matplotlib.axes._subplots.AxesSubplot at 0x7f7acc273908>"
      ]
     },
     "execution_count": 165,
     "metadata": {},
     "output_type": "execute_result"
    },
    {
     "data": {
      "image/png": "[encoded data removed]",
      "text/plain": [
       "<Figure size 432x288 with 1 Axes>"
      ]
     },
     "metadata": {
      "needs_background": "light"
     },
     "output_type": "display_data"
    }
   ],
   "source": [
    "df['age'].hist()"
   ]
  },
  {
   "cell_type": "code",
   "execution_count": 166,
   "metadata": {
    "scrolled": true
   },
   "outputs": [],
   "source": [
    "x_train, x_test, y_train, y_test = train_test_split(\n",
    "    df.drop(columns=['y']), \n",
    "    y_vals, \n",
    "    random_state=20191102\n",
    ")\n",
    "folds = KFold(n_splits=5, shuffle=True, random_state=20191102)"
   ]
  },
  {
   "cell_type": "code",
   "execution_count": 101,
   "metadata": {},
   "outputs": [],
   "source": [
    "scaler = StandardScaler()\n",
    "x_train = scaler.fit_transform(x_train)\n",
    "x_test = scaler.transform(x_test)"
   ]
  },
  {
   "cell_type": "code",
   "execution_count": 102,
   "metadata": {},
   "outputs": [
    {
     "data": {
      "text/plain": [
       "['../MLModels/scaler.joblib']"
      ]
     },
     "execution_count": 102,
     "metadata": {},
     "output_type": "execute_result"
    }
   ],
   "source": [
    "# Export Scaler\n",
    "joblib.dump(scaler,  '../MLModels/scaler.joblib')"
   ]
  },
  {
   "cell_type": "markdown",
   "metadata": {},
   "source": [
    "## Logistic Regression"
   ]
  },
  {
   "cell_type": "code",
   "execution_count": 126,
   "metadata": {
    "scrolled": true
   },
   "outputs": [],
   "source": [
    "log_model = LogisticRegression() \n",
    "log_model.fit(x_train, y_train)\n",
    "prediction = log_model.predict(x_test)"
   ]
  },
  {
   "cell_type": "code",
   "execution_count": 127,
   "metadata": {
    "scrolled": true
   },
   "outputs": [
    {
     "data": {
      "text/plain": [
       "['../MLModels/logistic_regression.joblib']"
      ]
     },
     "execution_count": 127,
     "metadata": {},
     "output_type": "execute_result"
    }
   ],
   "source": [
    "joblib.dump(log_model, '../MLModels/logistic_regression.joblib')"
   ]
  },
  {
   "cell_type": "code",
   "execution_count": 128,
   "metadata": {},
   "outputs": [
    {
     "name": "stdout",
     "output_type": "stream",
     "text": [
      "0.8979313594207472\n"
     ]
    }
   ],
   "source": [
    "print(cv_evaluator(log_model, x_train, y_train, folds))"
   ]
  },
  {
   "cell_type": "code",
   "execution_count": 129,
   "metadata": {
    "scrolled": true
   },
   "outputs": [
    {
     "name": "stdout",
     "output_type": "stream",
     "text": [
      "[[87.89938817  1.31106147]\n",
      " [ 8.3131009   2.47644945]]\n"
     ]
    }
   ],
   "source": [
    "print(confusion_matrix(y_test, prediction)/len(prediction)*100)"
   ]
  },
  {
   "cell_type": "markdown",
   "metadata": {},
   "source": [
    "## Random Forests"
   ]
  },
  {
   "cell_type": "code",
   "execution_count": 130,
   "metadata": {},
   "outputs": [],
   "source": [
    "rf_model = RandomForestClassifier(n_estimators = 100)\n",
    "rf_model.fit(x_train, y_train)\n",
    "prediction = rf_model.predict(x_test)"
   ]
  },
  {
   "cell_type": "code",
   "execution_count": 131,
   "metadata": {},
   "outputs": [
    {
     "data": {
      "text/plain": [
       "['../MLModels/random_forests.joblib']"
      ]
     },
     "execution_count": 131,
     "metadata": {},
     "output_type": "execute_result"
    }
   ],
   "source": [
    "joblib.dump(rf_model, '../MLModels/random_forests.joblib')"
   ]
  },
  {
   "cell_type": "code",
   "execution_count": 132,
   "metadata": {},
   "outputs": [
    {
     "name": "stdout",
     "output_type": "stream",
     "text": [
      "0.8904858722442073\n"
     ]
    }
   ],
   "source": [
    "print(cv_evaluator(rf_model, x_train, y_train, folds))"
   ]
  },
  {
   "cell_type": "code",
   "execution_count": 133,
   "metadata": {},
   "outputs": [
    {
     "name": "stdout",
     "output_type": "stream",
     "text": [
      "[[86.4426532   2.76779645]\n",
      " [ 7.64300282  3.14654754]]\n"
     ]
    }
   ],
   "source": [
    "print(confusion_matrix(y_test, prediction)/len(prediction)*100)"
   ]
  },
  {
   "cell_type": "markdown",
   "metadata": {},
   "source": [
    "#### Feature Importance using RF"
   ]
  },
  {
   "cell_type": "code",
   "execution_count": 134,
   "metadata": {},
   "outputs": [],
   "source": [
    "feature_importance = sorted(\n",
    "    zip(\n",
    "        map(lambda x: round(x, 4), \n",
    "            rf_model.feature_importances_\n",
    "           ), cols), \n",
    "             reverse=True\n",
    ")"
   ]
  },
  {
   "cell_type": "code",
   "execution_count": 135,
   "metadata": {},
   "outputs": [
    {
     "name": "stdout",
     "output_type": "stream",
     "text": [
      "(0.1737, 'age')\n",
      "(0.1344, 'euribor3m')\n",
      "(0.0864, 'campaign')\n",
      "(0.0471, 'nr_employed')\n",
      "(0.0395, 'housing_yes')\n",
      "(0.031, 'pdays')\n",
      "(0.0277, 'cons_conf_idx')\n",
      "(0.0244, 'loan_yes')\n",
      "(0.0236, 'poutcome_success')\n",
      "(0.0236, 'cons_price_idx')\n"
     ]
    }
   ],
   "source": [
    "# Top 10 important features\n",
    "for f in feature_importance[:10]: print(f)"
   ]
  },
  {
   "cell_type": "markdown",
   "metadata": {},
   "source": [
    "### XGBoost"
   ]
  },
  {
   "cell_type": "code",
   "execution_count": 136,
   "metadata": {},
   "outputs": [],
   "source": [
    "xgb_model = XGBClassifier()\n",
    "xgb_model.fit(x_train,y_train)\n",
    "prediction = xgb_model.predict(x_test)"
   ]
  },
  {
   "cell_type": "code",
   "execution_count": 105,
   "metadata": {},
   "outputs": [
    {
     "data": {
      "text/plain": [
       "array([[-0.29088392,  1.96759689,  0.19672691, ...,  2.02465001,\n",
       "         0.39859259, -0.18628219],\n",
       "       [-0.19503753, -0.20371013,  0.19672691, ..., -0.49391253,\n",
       "         0.39859259, -0.18628219],\n",
       "       [ 1.43435115,  1.60571239,  0.19672691, ..., -0.49391253,\n",
       "         0.39859259, -0.18628219],\n",
       "       ...,\n",
       "       [ 0.95511918,  0.52005888,  0.19672691, ..., -0.49391253,\n",
       "         0.39859259, -0.18628219],\n",
       "       [ 0.28419444, -0.56559463,  0.19672691, ...,  2.02465001,\n",
       "         0.39859259, -0.18628219],\n",
       "       [-0.96180867, -0.56559463,  0.19672691, ..., -0.49391253,\n",
       "         0.39859259, -0.18628219]])"
      ]
     },
     "execution_count": 105,
     "metadata": {},
     "output_type": "execute_result"
    }
   ],
   "source": [
    "x_train"
   ]
  },
  {
   "cell_type": "code",
   "execution_count": 137,
   "metadata": {
    "scrolled": true
   },
   "outputs": [
    {
     "data": {
      "text/plain": [
       "['../MLModels/xgb.joblib']"
      ]
     },
     "execution_count": 137,
     "metadata": {},
     "output_type": "execute_result"
    }
   ],
   "source": [
    "joblib.dump(xgb_model, '../MLModels/xgb.joblib')"
   ]
  },
  {
   "cell_type": "code",
   "execution_count": 107,
   "metadata": {},
   "outputs": [
    {
     "name": "stdout",
     "output_type": "stream",
     "text": [
      "0.8992586288492372\n"
     ]
    }
   ],
   "source": [
    "print(cv_evaluator(model, x_train, y_train, folds))"
   ]
  },
  {
   "cell_type": "code",
   "execution_count": 125,
   "metadata": {},
   "outputs": [
    {
     "name": "stdout",
     "output_type": "stream",
     "text": [
      "[[87.89938817  1.31106147]\n",
      " [ 8.24511994  2.54443042]]\n"
     ]
    }
   ],
   "source": [
    "print(confusion_matrix(y_test, prediction)/len(prediction)*100)"
   ]
  }
 ],
 "metadata": {
  "kernelspec": {
   "display_name": "Python 3",
   "language": "python",
   "name": "python3"
  },
  "language_info": {
   "codemirror_mode": {
    "name": "ipython",
    "version": 3
   },
   "file_extension": ".py",
   "mimetype": "text/x-python",
   "name": "python",
   "nbconvert_exporter": "python",
   "pygments_lexer": "ipython3",
   "version": "3.6.8"
  }
 },
 "nbformat": 4,
 "nbformat_minor": 2
}
