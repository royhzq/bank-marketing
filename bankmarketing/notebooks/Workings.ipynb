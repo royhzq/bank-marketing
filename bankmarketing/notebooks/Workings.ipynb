{
 "cells": [
  {
   "cell_type": "code",
   "execution_count": 1,
   "metadata": {},
   "outputs": [],
   "source": [
    "import pandas as pd"
   ]
  },
  {
   "cell_type": "code",
   "execution_count": null,
   "metadata": {},
   "outputs": [],
   "source": [
    "columns = ['age', 'campaign', 'pdays', 'previous', 'emp.var.rate',\n",
    "       'cons.price.idx', 'cons.conf.idx', 'euribor3m', 'nr.employed',\n",
    "       'job_blue-collar', 'job_entrepreneur', 'job_housemaid',\n",
    "       'job_management', 'job_retired', 'job_self-employed', 'job_services',\n",
    "       'job_student', 'job_technician', 'job_unemployed', 'job_unknown',\n",
    "       'marital_married', 'marital_single', 'marital_unknown',\n",
    "       'education_basic.6y', 'education_basic.9y', 'education_high.school',\n",
    "       'education_illiterate', 'education_professional.course',\n",
    "       'education_university.degree', 'education_unknown', 'default_unknown',\n",
    "       'default_yes', 'housing_unknown', 'housing_yes', 'loan_unknown',\n",
    "       'loan_yes', 'contact_telephone', 'month_aug', 'month_dec', 'month_jul',\n",
    "       'month_jun', 'month_mar', 'month_may', 'month_nov', 'month_oct',\n",
    "       'month_sep', 'day_of_week_mon', 'day_of_week_thu', 'day_of_week_tue',\n",
    "       'day_of_week_wed', 'poutcome_nonexistent', 'poutcome_success']"
   ]
  },
  {
   "cell_type": "code",
   "execution_count": 25,
   "metadata": {},
   "outputs": [],
   "source": [
    "data = {\n",
    "    \"age\": 25,\n",
    "    \"job\": \"admin.\",\n",
    "    \"marital\": \"single\",\n",
    "    \"education\": \"university.degree\",\n",
    "    \"default\": \"no\",\n",
    "    \"housing\": \"yes\",\n",
    "    \"loan\": \"no\",\n",
    "    \"contact\": \"cellular\",\n",
    "    \"month\": \"may\",\n",
    "    \"day_of_week\": \"fri\",\n",
    "    \"campaign\": 7,\n",
    "    \"pdays\": 129,\n",
    "    \"previous\": 1,\n",
    "    \"poutcome\": \"failure\"\n",
    "}\n",
    "data['emp_var_rate'] = 0.08188550063125165\n",
    "data['cons_price_idx'] = 93.5756643682626\n",
    "data['cons_conf_idx'] = -40.50260027192386\n",
    "data['euribor3m'] = 3.621290812858114\n",
    "data['nr_employed'] = 5167.035910944936"
   ]
  },
  {
   "cell_type": "code",
   "execution_count": 26,
   "metadata": {},
   "outputs": [
    {
     "data": {
      "text/plain": [
       "{'age': 25,\n",
       " 'job': 'admin.',\n",
       " 'marital': 'single',\n",
       " 'education': 'university.degree',\n",
       " 'default': 'no',\n",
       " 'housing': 'yes',\n",
       " 'loan': 'no',\n",
       " 'contact': 'cellular',\n",
       " 'month': 'may',\n",
       " 'day_of_week': 'fri',\n",
       " 'campaign': 7,\n",
       " 'pdays': 129,\n",
       " 'previous': 1,\n",
       " 'poutcome': 'failure',\n",
       " 'emp_var_rate': 0.08188550063125165,\n",
       " 'cons_price_idx': 93.5756643682626,\n",
       " 'cons_conf_idx': -40.50260027192386,\n",
       " 'euribor3m': 3.621290812858114,\n",
       " 'nr_employed': 5167.035910944936}"
      ]
     },
     "execution_count": 26,
     "metadata": {},
     "output_type": "execute_result"
    }
   ],
   "source": []
  },
  {
   "cell_type": "code",
   "execution_count": 27,
   "metadata": {},
   "outputs": [],
   "source": [
    "data = { k:[v] for k,v in data.items()}"
   ]
  },
  {
   "cell_type": "code",
   "execution_count": 28,
   "metadata": {},
   "outputs": [
    {
     "data": {
      "text/plain": [
       "{'age': [25],\n",
       " 'job': ['admin.'],\n",
       " 'marital': ['single'],\n",
       " 'education': ['university.degree'],\n",
       " 'default': ['no'],\n",
       " 'housing': ['yes'],\n",
       " 'loan': ['no'],\n",
       " 'contact': ['cellular'],\n",
       " 'month': ['may'],\n",
       " 'day_of_week': ['fri'],\n",
       " 'campaign': [7],\n",
       " 'pdays': [129],\n",
       " 'previous': [1],\n",
       " 'poutcome': ['failure'],\n",
       " 'emp_var_rate': [0.08188550063125165],\n",
       " 'cons_price_idx': [93.5756643682626],\n",
       " 'cons_conf_idx': [-40.50260027192386],\n",
       " 'euribor3m': [3.621290812858114],\n",
       " 'nr_employed': [5167.035910944936]}"
      ]
     },
     "execution_count": 28,
     "metadata": {},
     "output_type": "execute_result"
    }
   ],
   "source": [
    "data"
   ]
  },
  {
   "cell_type": "code",
   "execution_count": 33,
   "metadata": {},
   "outputs": [
    {
     "data": {
      "text/html": [
       "<div>\n",
       "<style scoped>\n",
       "    .dataframe tbody tr th:only-of-type {\n",
       "        vertical-align: middle;\n",
       "    }\n",
       "\n",
       "    .dataframe tbody tr th {\n",
       "        vertical-align: top;\n",
       "    }\n",
       "\n",
       "    .dataframe thead th {\n",
       "        text-align: right;\n",
       "    }\n",
       "</style>\n",
       "<table border=\"1\" class=\"dataframe\">\n",
       "  <thead>\n",
       "    <tr style=\"text-align: right;\">\n",
       "      <th></th>\n",
       "      <th>age</th>\n",
       "      <th>job</th>\n",
       "      <th>marital</th>\n",
       "      <th>education</th>\n",
       "      <th>default</th>\n",
       "      <th>housing</th>\n",
       "      <th>loan</th>\n",
       "      <th>contact</th>\n",
       "      <th>month</th>\n",
       "      <th>day_of_week</th>\n",
       "      <th>campaign</th>\n",
       "      <th>pdays</th>\n",
       "      <th>previous</th>\n",
       "      <th>poutcome</th>\n",
       "      <th>emp_var_rate</th>\n",
       "      <th>cons_price_idx</th>\n",
       "      <th>cons_conf_idx</th>\n",
       "      <th>euribor3m</th>\n",
       "      <th>nr_employed</th>\n",
       "    </tr>\n",
       "  </thead>\n",
       "  <tbody>\n",
       "    <tr>\n",
       "      <th>0</th>\n",
       "      <td>25</td>\n",
       "      <td>admin.</td>\n",
       "      <td>single</td>\n",
       "      <td>university.degree</td>\n",
       "      <td>no</td>\n",
       "      <td>yes</td>\n",
       "      <td>no</td>\n",
       "      <td>cellular</td>\n",
       "      <td>may</td>\n",
       "      <td>fri</td>\n",
       "      <td>7</td>\n",
       "      <td>129</td>\n",
       "      <td>1</td>\n",
       "      <td>failure</td>\n",
       "      <td>0.081886</td>\n",
       "      <td>93.575664</td>\n",
       "      <td>-40.5026</td>\n",
       "      <td>3.621291</td>\n",
       "      <td>5167.035911</td>\n",
       "    </tr>\n",
       "  </tbody>\n",
       "</table>\n",
       "</div>"
      ],
      "text/plain": [
       "   age     job marital          education default housing loan   contact  \\\n",
       "0   25  admin.  single  university.degree      no     yes   no  cellular   \n",
       "\n",
       "  month day_of_week  campaign  pdays  previous poutcome  emp_var_rate  \\\n",
       "0   may         fri         7    129         1  failure      0.081886   \n",
       "\n",
       "   cons_price_idx  cons_conf_idx  euribor3m  nr_employed  \n",
       "0       93.575664       -40.5026   3.621291  5167.035911  "
      ]
     },
     "execution_count": 33,
     "metadata": {},
     "output_type": "execute_result"
    }
   ],
   "source": [
    "pd.DataFrame.from_dict(data)"
   ]
  },
  {
   "cell_type": "code",
   "execution_count": 5,
   "metadata": {},
   "outputs": [],
   "source": [
    "m = [ 0.38004083, -0.56559463,  0.19672691,  1.67001193, -1.19304176,\n",
    "       -1.17915784, -1.23152058, -1.36077793, -0.93504613, -0.53879215,\n",
    "       -0.19215593, -0.16336579, -0.27684214, -0.20917914,  5.28689561,\n",
    "       -0.32626799, -0.14510364, -0.44039455, -0.1605238 , -0.08959582,\n",
    "        0.80506851, -0.6233352 , -0.04223304, -0.24304647, -0.41438077,\n",
    "       -0.54688886, -0.0179951 , -0.3839053 ,  1.54492708, -0.20943191,\n",
    "       -0.51592661, -0.00804661, -0.156554  ,  0.95563031, -0.156554  ,\n",
    "       -0.42212722, -0.76217515, -0.41545273, -0.06698781, -0.45777926,\n",
    "       -0.3870628 , -0.11525965,  1.39829473, -0.33206699, -0.13123291,\n",
    "       -0.1168355 , -0.51184994, -0.51436703, -0.49406465, -0.49391253,\n",
    "       -2.50882739, -0.18628219]"
   ]
  },
  {
   "cell_type": "code",
   "execution_count": 9,
   "metadata": {},
   "outputs": [
    {
     "name": "stdout",
     "output_type": "stream",
     "text": [
      "age\n",
      "campaign\n",
      "pdays\n",
      "previous\n",
      "emp.var.rate\n",
      "cons.price.idx\n",
      "cons.conf.idx\n",
      "euribor3m\n",
      "nr.employed\n",
      "job_blue-collar\n",
      "job_entrepreneur\n",
      "job_housemaid\n",
      "job_management\n",
      "job_retired\n",
      "job_self-employed\n",
      "job_services\n",
      "job_student\n",
      "job_technician\n",
      "job_unemployed\n",
      "job_unknown\n",
      "marital_married\n",
      "marital_single\n",
      "marital_unknown\n",
      "education_basic.6y\n",
      "education_basic.9y\n",
      "education_high.school\n",
      "education_illiterate\n",
      "education_professional.course\n",
      "education_university.degree\n",
      "education_unknown\n",
      "default_unknown\n",
      "default_yes\n",
      "housing_unknown\n",
      "housing_yes\n",
      "loan_unknown\n",
      "loan_yes\n",
      "contact_telephone\n",
      "month_aug\n",
      "month_dec\n",
      "month_jul\n",
      "month_jun\n",
      "month_mar\n",
      "month_may\n",
      "month_nov\n",
      "month_oct\n",
      "month_sep\n",
      "day_of_week_mon\n",
      "day_of_week_thu\n",
      "day_of_week_tue\n",
      "day_of_week_wed\n",
      "poutcome_nonexistent\n",
      "poutcome_success\n"
     ]
    }
   ],
   "source": [
    "for c in columns:\n",
    "    print(c)"
   ]
  },
  {
   "cell_type": "code",
   "execution_count": null,
   "metadata": {},
   "outputs": [],
   "source": []
  }
 ],
 "metadata": {
  "kernelspec": {
   "display_name": "Python 3",
   "language": "python",
   "name": "python3"
  },
  "language_info": {
   "codemirror_mode": {
    "name": "ipython",
    "version": 3
   },
   "file_extension": ".py",
   "mimetype": "text/x-python",
   "name": "python",
   "nbconvert_exporter": "python",
   "pygments_lexer": "ipython3",
   "version": "3.6.8"
  }
 },
 "nbformat": 4,
 "nbformat_minor": 2
}
